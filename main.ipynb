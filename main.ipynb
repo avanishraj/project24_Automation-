{
 "cells": [
  {
   "cell_type": "code",
   "execution_count": 8,
   "id": "ca933219",
   "metadata": {},
   "outputs": [],
   "source": [
    "from langchain_groq import ChatGroq\n",
    "llm = ChatGroq(model=\"deepseek-r1-distill-llama-70b\", temperature=0.5)"
   ]
  },
  {
   "cell_type": "code",
   "execution_count": 10,
   "id": "8dceb6fa",
   "metadata": {},
   "outputs": [
    {
     "data": {
      "text/plain": [
       "'<think>\\nOkay, I need to write a Python function that computes the Fibonacci sequence up to n. Hmm, let me think about how the Fibonacci sequence works. So, the sequence starts with 0 and 1, right? And each subsequent number is the sum of the two preceding ones. So, like 0, 1, 1, 2, 3, 5, and so on.\\n\\nWait, sometimes people start with 1 and 1 instead of 0 and 1. I should clarify that. Maybe the function should start with 0 and 1 as the first two numbers. That seems more standard in programming contexts.\\n\\nSo, the function needs to take an integer n as input, which represents the number of terms in the sequence. For example, if n is 5, the output should be [0, 1, 1, 2, 3]. Or maybe it\\'s the nth term? Wait, the question says up to n, so I think it\\'s the number of terms.\\n\\nLet me make sure. If n is 1, the sequence is just [0]. If n is 2, it\\'s [0, 1]. If n is 3, [0, 1, 1], and so on. So, yeah, the function should generate the first n Fibonacci numbers.\\n\\nHow do I approach this? Well, I can start by initializing a list with the first two numbers, 0 and 1. But wait, if n is 1, I should only have [0]. If n is 2, [0,1]. For n greater than 2, I need to compute each subsequent term.\\n\\nSo, maybe I can handle the cases where n is 0, 1, or 2 first. Wait, n can\\'t be 0 because the sequence starts at 1 term. Or does it? The problem says up to n, so n should be a positive integer.\\n\\nSo, first, I\\'ll check if n is 1, return [0]. If n is 2, return [0,1]. For n greater than 2, I\\'ll start with [0,1] and then compute the next terms up to n.\\n\\nLet me outline the steps:\\n\\n1. Check if n is 0: maybe return an empty list? Or does the problem specify n is positive? The question says \"up to n\", so n should be at least 1.\\n\\n2. Initialize a list with the first two terms, 0 and 1.\\n\\n3. If n is 1, return [0].\\n\\n4. If n is 2, return [0,1].\\n\\n5. For n > 2, loop from 2 to n-1 (since we already have the first two terms), compute each term as the sum of the previous two, and append to the list.\\n\\nWait, let me think about the indices. The first term is index 0, second is index 1. So for the third term (index 2), it\\'s fib[0] + fib[1] = 1. Then the fourth term (index 3) is fib[1] + fib[2] = 2, etc.\\n\\nSo, the loop should run from 2 to n-1 (since the list is zero-based). For each i in range(2, n), append fib[i-1] + fib[i-2].\\n\\nAlternatively, since the list starts with [0,1], for i in range(2, n), compute next term.\\n\\nLet me test this logic with n=5.\\n\\nInitialize fib = [0,1]\\n\\nLoop for i=2 to 4 (since n=5, range is 2,5 which is 2,3,4):\\n\\ni=2: next = 1+0=1, append. fib becomes [0,1,1]\\n\\ni=3: next =1+1=2, append. [0,1,1,2]\\n\\ni=4: next=1+2=3, append. [0,1,1,2,3]\\n\\nWhich is correct.\\n\\nAnother test: n=3. After initialization, loop runs for i=2. Append 1. So [0,1,1].\\n\\nn=1: return [0]\\n\\nn=2: [0,1]\\n\\nOkay, that seems solid.\\n\\nSo, the function can be structured as follows:\\n\\ndef fibonacci(n):\\n\\n    if n <=0:\\n\\n        return []  # or handle accordingly, but assuming n is positive.\\n\\n    elif n ==1:\\n\\n        return [0]\\n\\n    elif n ==2:\\n\\n        return [0,1]\\n\\n    else:\\n\\n        fib = [0,1]\\n\\n        for i in range(2, n):\\n\\n            next_term = fib[i-1] + fib[i-2]\\n\\n            fib.append(next_term)\\n\\n        return fib\\n\\nWait, but in Python, for n=3, the loop runs from 2 to n-1, which is 2 to 2, so it runs once, appending 1. So yes.\\n\\nBut wait, in the code above, for n=5, the loop runs from 2 to 4 (since range(2,5) is 2,3,4), which is 3 iterations, adding the 3rd, 4th, and 5th terms. Wait, no: initial list has 2 elements. After 3 iterations, the list will have 5 elements. So yes, correct.\\n\\nAlternatively, another approach is to use a while loop, but the for loop seems straightforward.\\n\\nAnother way to handle it without multiple conditions is to initialize the list as empty, then handle the base cases first.\\n\\nAlternatively, I can start with fib = [] and build it up based on n.\\n\\nBut the current approach seems efficient.\\n\\nWait, what if someone calls the function with n=0? The problem says up to n, but n is probably a positive integer. So perhaps the function should handle n=0 by returning an empty list.\\n\\nSo, in the function, first check if n <=0: return empty list.\\n\\nElse if n ==1: return [0]\\n\\nElse, start with [0,1] and build up.\\n\\nYes.\\n\\nSo, the code should look like this.\\n\\nWait, let me think about the initial conditions again.\\n\\nIn some definitions, the Fibonacci sequence starts with 1,1. But in this case, the user specified starting with 0 and 1.\\n\\nSo, the function as written is correct.\\n\\nI think that\\'s a solid approach. Now, let me write the code accordingly.\\n</think>\\n\\nTo solve this problem, we need to compute the Fibonacci sequence up to a given number of terms, \\\\( n \\\\). The Fibonacci sequence starts with 0 and 1, and each subsequent term is the sum of the two preceding terms.\\n\\n### Approach\\nThe approach to solve this problem involves the following steps:\\n\\n1. **Handle Base Cases**: \\n   - If \\\\( n \\\\) is 0, return an empty list as there are no terms to generate.\\n   - If \\\\( n \\\\) is 1, return a list containing only the first term, which is 0.\\n   - If \\\\( n \\\\) is 2, return a list containing the first two terms, which are 0 and 1.\\n\\n2. **Generate Fibonacci Sequence**:\\n   - For \\\\( n \\\\) greater than 2, initialize the sequence with the first two terms [0, 1].\\n   - Use a loop to generate each subsequent term up to \\\\( n \\\\) terms. Each term is the sum of the two preceding terms.\\n\\nThis approach ensures that we efficiently generate the sequence using an iterative method, which is both time and space efficient.\\n\\n### Solution Code\\n\\n```python\\ndef fibonacci(n):\\n    if n <= 0:\\n        return []\\n    elif n == 1:\\n        return [0]\\n    elif n == 2:\\n        return [0, 1]\\n    else:\\n        fib = [0, 1]\\n        for i in range(2, n):\\n            next_term = fib[i-1] + fib[i-2]\\n            fib.append(next_term)\\n        return fib\\n```\\n\\n### Explanation\\n- **Base Cases Handling**: The function first checks if \\\\( n \\\\) is 0, 1, or 2, and returns the appropriate sequence for these cases.\\n- **Sequence Generation**: For \\\\( n \\\\) greater than 2, the function initializes the sequence with [0, 1]. It then iterates from 2 to \\\\( n-1 \\\\), computing each subsequent term as the sum of the two previous terms and appending it to the sequence.\\n- **Efficiency**: The solution efficiently computes each term in linear time, \\\\( O(n) \\\\), and uses linear space to store the sequence, making it optimal for this problem.'"
      ]
     },
     "execution_count": 10,
     "metadata": {},
     "output_type": "execute_result"
    }
   ],
   "source": [
    "llm.invoke(\"Write a Python function that computes the Fibonacci sequence up to n.\").content"
   ]
  },
  {
   "cell_type": "code",
   "execution_count": 11,
   "id": "374059db",
   "metadata": {},
   "outputs": [],
   "source": [
    "from langgraph.graph import StateGraph,START, END\n",
    "from typing import TypedDict, Literal, Annotated\n",
    "from langchain_groq import ChatGroq\n",
    "from langchain_core.messages import SystemMessage, HumanMessage\n",
    "import operator"
   ]
  },
  {
   "cell_type": "code",
   "execution_count": 12,
   "id": "dc5ebd98",
   "metadata": {},
   "outputs": [],
   "source": [
    "generator_llm = ChatGroq(model=\"deepseek-r1-distill-llama-70b\", temperature=0.5)\n",
    "evaluator_llm = ChatGroq(model=\"deepseek-r1-distill-llama-70b\", temperature=0.5)\n",
    "optimizer_llm = ChatGroq(model=\"deepseek-r1-distill-llama-70b\", temperature=0.5)"
   ]
  },
  {
   "cell_type": "code",
   "execution_count": 13,
   "id": "4dc9c281",
   "metadata": {},
   "outputs": [],
   "source": [
    "from pydantic import BaseModel, Field\n",
    "\n",
    "class TweetEvaluation(BaseModel):\n",
    "    evaluation: Literal[\"approved\", \"needs_improvement\"] = Field(..., description=\"Final evaluation result.\")\n",
    "    feedback: str = Field(..., description=\"feedback for the tweet.\")"
   ]
  },
  {
   "cell_type": "code",
   "execution_count": 14,
   "id": "05281bbf",
   "metadata": {},
   "outputs": [],
   "source": [
    "structured_evaluator_llm = evaluator_llm.with_structured_output(TweetEvaluation)"
   ]
  },
  {
   "cell_type": "code",
   "execution_count": 15,
   "id": "3bb9d52e",
   "metadata": {},
   "outputs": [],
   "source": [
    "class TweetState(TypedDict):\n",
    "\n",
    "    topic: str\n",
    "    tweet: str\n",
    "    evaluation: Literal[\"approved\", \"needs_improvement\"]\n",
    "    feedback: str\n",
    "    iteration: int\n",
    "    max_iteration: int\n",
    "\n",
    "    tweet_history: Annotated[list[str], operator.add]\n",
    "    feedback_history: Annotated[list[str], operator.add]"
   ]
  },
  {
   "cell_type": "code",
   "execution_count": 16,
   "id": "dd568e32",
   "metadata": {},
   "outputs": [],
   "source": [
    "def generate_tweet(state: TweetState):\n",
    "\n",
    "    # prompt\n",
    "    messages = [\n",
    "        SystemMessage(content=\"You are a funny and clever Twitter/X influencer.\"),\n",
    "        HumanMessage(content=f\"\"\"\n",
    "Write a short, original, and hilarious tweet on the topic: \"{state['topic']}\".\n",
    "\n",
    "Rules:\n",
    "- Do NOT use question-answer format.\n",
    "- Max 280 characters.\n",
    "- Use observational humor, irony, sarcasm, or cultural references.\n",
    "- Think in meme logic, punchlines, or relatable takes.\n",
    "- Use simple, day to day english\n",
    "\"\"\")\n",
    "    ]\n",
    "\n",
    "    # send generator_llm\n",
    "    response = generator_llm.invoke(messages).content\n",
    "\n",
    "    # return response\n",
    "    return {'tweet': response, 'tweet_history': [response]}"
   ]
  },
  {
   "cell_type": "code",
   "execution_count": 17,
   "id": "0bc0f727",
   "metadata": {},
   "outputs": [],
   "source": [
    "def evaluate_tweet(state: TweetState):\n",
    "\n",
    "    # prompt\n",
    "    messages = [\n",
    "    SystemMessage(content=\"You are a ruthless, no-laugh-given Twitter critic. You evaluate tweets based on humor, originality, virality, and tweet format.\"),\n",
    "    HumanMessage(content=f\"\"\"\n",
    "Evaluate the following tweet:\n",
    "\n",
    "Tweet: \"{state['tweet']}\"\n",
    "\n",
    "Use the criteria below to evaluate the tweet:\n",
    "\n",
    "1. Originality – Is this fresh, or have you seen it a hundred times before?  \n",
    "2. Humor – Did it genuinely make you smile, laugh, or chuckle?  \n",
    "3. Punchiness – Is it short, sharp, and scroll-stopping?  \n",
    "4. Virality Potential – Would people retweet or share it?  \n",
    "5. Format – Is it a well-formed tweet (not a setup-punchline joke, not a Q&A joke, and under 280 characters)?\n",
    "\n",
    "Auto-reject if:\n",
    "- It's written in question-answer format (e.g., \"Why did...\" or \"What happens when...\")\n",
    "- It exceeds 280 characters\n",
    "- It reads like a traditional setup-punchline joke\n",
    "- Dont end with generic, throwaway, or deflating lines that weaken the humor (e.g., “Masterpieces of the auntie-uncle universe” or vague summaries)\n",
    "\n",
    "### Respond ONLY in structured format:\n",
    "- evaluation: \"approved\" or \"needs_improvement\"  \n",
    "- feedback: One paragraph explaining the strengths and weaknesses \n",
    "\"\"\")\n",
    "]\n",
    "\n",
    "    response = structured_evaluator_llm.invoke(messages)\n",
    "\n",
    "    return {'evaluation':response.evaluation, 'feedback': response.feedback, 'feedback_history': [response.feedback]}"
   ]
  },
  {
   "cell_type": "code",
   "execution_count": 18,
   "id": "16521883",
   "metadata": {},
   "outputs": [],
   "source": [
    "def optimize_tweet(state: TweetState):\n",
    "\n",
    "    messages = [\n",
    "        SystemMessage(content=\"You punch up tweets for virality and humor based on given feedback.\"),\n",
    "        HumanMessage(content=f\"\"\"\n",
    "Improve the tweet based on this feedback:\n",
    "\"{state['feedback']}\"\n",
    "\n",
    "Topic: \"{state['topic']}\"\n",
    "Original Tweet:\n",
    "{state['tweet']}\n",
    "\n",
    "Re-write it as a short, viral-worthy tweet. Avoid Q&A style and stay under 280 characters.\n",
    "\"\"\")\n",
    "    ]\n",
    "\n",
    "    response = optimizer_llm.invoke(messages).content\n",
    "    iteration = state['iteration'] + 1\n",
    "\n",
    "    return {'tweet': response, 'iteration': iteration, 'tweet_history': [response]}"
   ]
  },
  {
   "cell_type": "code",
   "execution_count": 19,
   "id": "781d3fa0",
   "metadata": {},
   "outputs": [],
   "source": [
    "def route_evaluation(state: TweetState):\n",
    "\n",
    "    if state['evaluation'] == 'approved' or state['iteration'] >= state['max_iteration']:\n",
    "        return 'approved'\n",
    "    else:\n",
    "        return 'needs_improvement'"
   ]
  },
  {
   "cell_type": "code",
   "execution_count": 20,
   "id": "62c7da5a",
   "metadata": {},
   "outputs": [
    {
     "data": {
      "image/png": "[encoded data removed]",
      "text/plain": [
       "<langgraph.graph.state.CompiledStateGraph object at 0x0000018F4D5C8740>"
      ]
     },
     "execution_count": 20,
     "metadata": {},
     "output_type": "execute_result"
    }
   ],
   "source": [
    "graph = StateGraph(TweetState)\n",
    "\n",
    "graph.add_node('generate', generate_tweet)\n",
    "graph.add_node('evaluate', evaluate_tweet)\n",
    "graph.add_node('optimize', optimize_tweet)\n",
    "\n",
    "graph.add_edge(START, 'generate')\n",
    "graph.add_edge('generate', 'evaluate')\n",
    "\n",
    "graph.add_conditional_edges('evaluate', route_evaluation, {'approved': END, 'needs_improvement': 'optimize'})\n",
    "graph.add_edge('optimize', 'evaluate')\n",
    "\n",
    "workflow = graph.compile()\n",
    "\n",
    "workflow"
   ]
  },
  {
   "cell_type": "code",
   "execution_count": 21,
   "id": "eb59aa37",
   "metadata": {},
   "outputs": [],
   "source": [
    "initial_state = {\n",
    "    \"topic\": \"srhberhb\",\n",
    "    \"iteration\": 1,\n",
    "    \"max_iteration\": 5\n",
    "}\n",
    "result = workflow.invoke(initial_state)"
   ]
  },
  {
   "cell_type": "code",
   "execution_count": 22,
   "id": "4f18626a",
   "metadata": {},
   "outputs": [
    {
     "data": {
      "text/plain": [
       "{'topic': 'srhberhb',\n",
       " 'tweet': '<think>\\nOkay, so I need to come up with a short, funny tweet about \"srhberhb\". First, I should figure out what \"srhberhb\" is. It looks like a typo or a random string of letters. Maybe it\\'s supposed to be \"strawberry\"? That makes sense because \"strawberry\" is a common word that people might typo. \\n\\nSo, if I go with that, I can make a joke about the typo. People often make fun of typos on social media, so that\\'s relatable. Maybe something about how the typo is trying to be something else. Like, \"srhberhb\" is \"strawberry\" but it\\'s acting like it\\'s something more complicated. \\n\\nI could use a metaphor, like comparing the typo to something else. Maybe something like \"when you think you\\'re a smoothie but you\\'re just a typo of a strawberry.\" That plays on the idea of thinking you\\'re more complex or put together than you actually are. \\n\\nI should keep it simple and under 280 characters. Let me check: \"srhberhb: when you think you\\'re a smoothie but you\\'re just a typo of a strawberry #typoLife\" – that\\'s 86 characters. Good. \\n\\nUsing a hashtag like #typoLife adds a bit of humor and makes it more relatable. People who have typos in their tweets or messages will get it. The metaphor of a smoothie vs. a strawberry is funny because a smoothie is a mix of things, but here it\\'s just a typo, so it\\'s simpler than it thinks.\\n\\nI think that works. It\\'s observational humor, uses a cultural reference to typos on social media, and is relatable. Plus, it\\'s short and fits the character limit.\\n</think>\\n\\n\"srhberhb: when you think you\\'re a smoothie but you\\'re just a typo of a strawberry #typoLife\"',\n",
       " 'evaluation': 'approved',\n",
       " 'feedback': \"This tweet is fresh, funny, and well-formatted. It cleverly plays on a common typo, making it relatable and humorous. The metaphor of comparing a typo to a smoothie adds a surprising twist, enhancing the punchiness. The use of the hashtag #typoLife increases its virality potential by tapping into a shared experience. Overall, it's a well-crafted tweet that effectively balances originality and humor.\",\n",
       " 'iteration': 1,\n",
       " 'max_iteration': 5,\n",
       " 'tweet_history': ['<think>\\nOkay, so I need to come up with a short, funny tweet about \"srhberhb\". First, I should figure out what \"srhberhb\" is. It looks like a typo or a random string of letters. Maybe it\\'s supposed to be \"strawberry\"? That makes sense because \"strawberry\" is a common word that people might typo. \\n\\nSo, if I go with that, I can make a joke about the typo. People often make fun of typos on social media, so that\\'s relatable. Maybe something about how the typo is trying to be something else. Like, \"srhberhb\" is \"strawberry\" but it\\'s acting like it\\'s something more complicated. \\n\\nI could use a metaphor, like comparing the typo to something else. Maybe something like \"when you think you\\'re a smoothie but you\\'re just a typo of a strawberry.\" That plays on the idea of thinking you\\'re more complex or put together than you actually are. \\n\\nI should keep it simple and under 280 characters. Let me check: \"srhberhb: when you think you\\'re a smoothie but you\\'re just a typo of a strawberry #typoLife\" – that\\'s 86 characters. Good. \\n\\nUsing a hashtag like #typoLife adds a bit of humor and makes it more relatable. People who have typos in their tweets or messages will get it. The metaphor of a smoothie vs. a strawberry is funny because a smoothie is a mix of things, but here it\\'s just a typo, so it\\'s simpler than it thinks.\\n\\nI think that works. It\\'s observational humor, uses a cultural reference to typos on social media, and is relatable. Plus, it\\'s short and fits the character limit.\\n</think>\\n\\n\"srhberhb: when you think you\\'re a smoothie but you\\'re just a typo of a strawberry #typoLife\"'],\n",
       " 'feedback_history': [\"This tweet is fresh, funny, and well-formatted. It cleverly plays on a common typo, making it relatable and humorous. The metaphor of comparing a typo to a smoothie adds a surprising twist, enhancing the punchiness. The use of the hashtag #typoLife increases its virality potential by tapping into a shared experience. Overall, it's a well-crafted tweet that effectively balances originality and humor.\"]}"
      ]
     },
     "execution_count": 22,
     "metadata": {},
     "output_type": "execute_result"
    }
   ],
   "source": [
    "result"
   ]
  },
  {
   "cell_type": "code",
   "execution_count": null,
   "id": "27430471",
   "metadata": {},
   "outputs": [],
   "source": []
  }
 ],
 "metadata": {
  "kernelspec": {
   "display_name": "Python 3",
   "language": "python",
   "name": "python3"
  },
  "language_info": {
   "codemirror_mode": {
    "name": "ipython",
    "version": 3
   },
   "file_extension": ".py",
   "mimetype": "text/x-python",
   "name": "python",
   "nbconvert_exporter": "python",
   "pygments_lexer": "ipython3",
   "version": "3.12.6"
  }
 },
 "nbformat": 4,
 "nbformat_minor": 5
}
